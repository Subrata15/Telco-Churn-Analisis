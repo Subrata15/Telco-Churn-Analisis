{
 "cells": [
  {
   "cell_type": "markdown",
   "metadata": {},
   "source": [
    "### 1: Berapakah jumlah pelanggan churn pada dataset tersebut, apakah kasus tersebut termasuk kasus imbalance data? Jelaskan alasan anda\n",
    "\n",
    "***answer:***\n",
    "\n",
    "Jumlah kelas Churn (Yes) lebih sedikit ketimbang jumlah kelas tidak Churn (No). Disini kita dapat simpulkan, label dataset kita imbalance. Kasus imbalance adalah normal terjadi, dimana kejadian yang tidak diharapkan terjadi cenderung lebih sedikit daripada kejadian normal terjadi. Walaupun hal ini normal terjadi di kehidupan kita, namun untuk proses analisis lebih lanjut kita perlu memberikan perhatian khusus pada kasus ini, kaitannya dengan distribusi data, data imbalance terjadi dikarenakan kelas-kelas yang ada tidak sama terwakilkan jumlahnya (Nitesh Chawla, et al, 2002). Jika imbalance tidak ditangani, kedepannya akan berdampak pada hasil analisis prediktif, dimana model cenderung banyak memprediksi kelas yang dominan ketimbang lainnya."
   ]
  },
  {
   "cell_type": "markdown",
   "metadata": {},
   "source": [
    "### 2: Berdasarkan jenis kelamin, pelanggan manakah yang cenderung akan churn? Silahkan berikan alasannya\n",
    "\n",
    "***answer:***\n",
    "\n",
    "Dari visualisasi yang dapat kita lihat pada notebook 03-analyze menunjukkan bahwa perbedaan gender tidak mempengaruhi perilaku customer dalam pengambilan keputusan untuk melakukan churn. Prosentase yang hampir sama yaitu 13,3% untuk perempuan dan 13,2% untuk laki-laki menunjukkan tidak ada perbedaan yang berarti. Dari sini menunjukkan bahwa dataset cukup bagus dalam distribusi kategori gender, dan tidak akan menyebabkan bias gender karena distribusi yang cenderung sama untuk kategori Female maupun Male."
   ]
  },
  {
   "cell_type": "markdown",
   "metadata": {},
   "source": [
    "### 3: Berdasarkan jenis kewarganegaraannya, pelanggan manakah yang cenderung akan churn? Silahkan berikan alasannya\n",
    "\n",
    "***answer:***\n",
    "\n",
    "Dari hasil visualisasi notebook 03-analyze, menunjukkan bahwa customer dengan **kategori kewarganegaraan 0 melakukan churn sebesar 18,8% dan dengan kategori 1 melakukan churn sebesar 6,8% dari keseluruhan total data**. Namun kita dapat melihat, proporsi sebaliknya yaitu kategori 0 non churn sebesar 64% dan kategori 1 non churn sebesar 9,5% dari keseluruhan total data. Hal ini menunjukkan bahwa **tidak dapat disimpulkan hanya dari status kewarganegaraan dapat menunjukkan pola seseorang akan melakukan churn**. Karena dapat kita lihat status kewarganegaraan 0 dominan di non churn dan churn, begitu juga sebaliknya dengan status 1 yang minor pada non churn dan churn. **Hal ini kemungkinan terjadi karena distribusi kategori status kewarganegaraan yang tidak merata sehingga kategori 0 selalu dominan baik di churn maupun non churn.**"
   ]
  },
  {
   "cell_type": "markdown",
   "metadata": {},
   "source": [
    "### 4: Berdasarkan layanan internet, pelanggan manakah yang cenderung akan churn? Silahkan berikan alasannya\n",
    "\n",
    "***answer:***\n",
    "\n",
    "Dari hasil visualisasi notebook 03-analyze, menunjukkan bahwa customer dengan kategori layanan internet Fiber Optic melakukan churn sebesar 18,4%, pada kategori DSL sebesar 6,5%, dan dengan kategori No melakukan churn sebesar 1,6% dari keseluruhan total data. Pada proporsi non churn, persebaran kategori cukup berimbang yaitu pada rentang 20-27%. Dari sini kita dapat menyimpulkan bahwa pada kecenderungan untuk kategori layanan internet, **customer akan cenderung melakukan churn pada layanan Fiber optic.**"
   ]
  },
  {
   "cell_type": "markdown",
   "metadata": {},
   "source": [
    "### 5: Berdasarkan jenis kontraknya, pelanggan manakah yang cenderung akan churn? Silahkan berikan alasannya\n",
    "\n",
    "***answer:***\n",
    "\n",
    "Dari hasil visualisasi notebook 03-analyze, menunjukkan bahwa customer dengan kategori kontrak Month to month melakukan churn sebesar 23,5,4%, pada kategori One year dan two year dibawah 10% dari keseluruhan total data. Pada proporsi non churn, persebaran kategori cukup berimbang yaitu pada rentang 18-31%. Dari sini kita dapat menyimpulkan bahwa pada kecenderungan untuk kategori kontrak, **customer akan cenderung melakukan churn pada kategori kontrak Month to month.**"
   ]
  },
  {
   "cell_type": "markdown",
   "metadata": {},
   "source": [
    "### 6: Berdasarkan biaya bulanan, pelanggan manakah yang cenderung akan churn? Silahkan berikan alasannya\n",
    "\n",
    "***answer:***\n",
    "\n",
    "Dari hasil visualisasi pada notebook 03-analyze menggunakan histogram dan barplot tidak terlalu menunjukkan kecenderungan yang signifikan bahwa perbedaan biaya bulanan akan mempengaruhi churn. Namun setelah melihat persebaran data menggunakan boxplot, sedikit terlihat bahwa customer yang churn cenderung memiliki biaya bulanan yang lebih tinggi."
   ]
  },
  {
   "cell_type": "markdown",
   "metadata": {},
   "source": [
    "### 7: Metode apakah yang anda gunakan untuk mengubah data categorical menjadi numerical?\n",
    "\n",
    "***answer:***\n",
    "\n",
    "Pemilihan One hot encoding sebagai transformer data kategorikal dikarenakan kemudahan dan pandangan penulis lebih dekat kepada probability, sehingga akan meningkatkan performa model, selama jumlah kolomm baru yang dibentuk tidak memberi pengaruh buruk dibanding dengan baseline model menggunakan LebelEncoder.​"
   ]
  },
  {
   "cell_type": "markdown",
   "metadata": {},
   "source": [
    "### 8: Metode apakah yang akan anda gunakan untuk menangani persoalan pada nomor 1? Mengapa anda menggunakan metode tersebut\n",
    "\n",
    "***answer:***\n",
    "\n",
    "Menggunakan SMOTE dan Stratify. Data imbalance terjadi dikarenakan kelas-kelas yang ada tidak sama terwakilkan jumlahnya (Nitesh Chawla, et al, 2002). Jika imbalance tidak ditangani, kedepannya akan berdampak pada hasil analisis prediktif, dimana model cenderung banyak memprediksi kelas yang dominan ketimbang lainnya."
   ]
  },
  {
   "cell_type": "markdown",
   "metadata": {},
   "source": [
    "### 9: Buatlah machine learning model untuk memprediksi pelanggan yang akan churn dibulan berikutnya dan tunjukan hasil evaluasi model tersebut\n",
    "\n",
    "***answer:***\n",
    "\n",
    "[experiment1](04-baseline-model-lowcode-v1.ipynb)<br>\n",
    "[experiment2](04-baseline-model-lowcode-v2.ipynb)<br>\n",
    "[modelling](05-modelling.ipynb)"
   ]
  },
  {
   "cell_type": "markdown",
   "metadata": {},
   "source": [
    "### 10: Jelaskan Fitur apa saja yang paling berpengaruh pada model anda dan berapa banyak pelanggan yang akan churn di bulan berikutnya\n",
    "\n",
    "***answer:***\n",
    "\n",
    "[experiment1](04-baseline-model-lowcode-v1.ipynb)<br>\n",
    "[experiment2](04-baseline-model-lowcode-v2.ipynb)<br>\n",
    "[modelling](05-modelling.ipynb)"
   ]
  },
  {
   "cell_type": "markdown",
   "metadata": {},
   "source": [
    "#### Misc\n",
    "\n",
    "Next notebook follow up for this question:\n",
    "- [02-prepare-process](02-prepare-process.ipynb)\n",
    "- [03-analyze](03-analyze.ipynb)\n",
    "- [05-modelling](05-modelling)"
   ]
  }
 ],
 "metadata": {
  "kernelspec": {
   "display_name": "Python 3",
   "language": "python",
   "name": "python3"
  },
  "language_info": {
   "codemirror_mode": {
    "name": "ipython",
    "version": 3
   },
   "file_extension": ".py",
   "mimetype": "text/x-python",
   "name": "python",
   "nbconvert_exporter": "python",
   "pygments_lexer": "ipython3",
   "version": "3.7.4"
  }
 },
 "nbformat": 4,
 "nbformat_minor": 4
}
