{
 "cells": [
  {
   "cell_type": "markdown",
   "metadata": {},
   "source": [
    "### 1: Berapakah jumlah pelanggan churn pada dataset tersebut, apakah kasus tersebut termasuk kasus imbalance data? Jelaskan alasan anda\n",
    "\n",
    "***Plan to answer:***\n",
    "\n",
    "- Prepare and Process\n",
    "> Encode Label, Visualize Label\n",
    "- Analyze\n",
    "> To be confirm"
   ]
  },
  {
   "cell_type": "markdown",
   "metadata": {},
   "source": [
    "### 2: Berdasarkan jenis kelamin, pelanggan manakah yang cenderung akan churn? Silahkan berikan alasannya\n",
    "\n",
    "***Plan to answer:***\n",
    "\n",
    "- Prepare and Transform\n",
    "> Visualize Unique Gender for each Label\n",
    "- Analyze\n",
    "> To be confirm"
   ]
  },
  {
   "cell_type": "markdown",
   "metadata": {},
   "source": [
    "### 3: Berdasarkan jenis kewarganegaraannya, pelanggan manakah yang cenderung akan churn? Silahkan berikan alasannya\n",
    "\n",
    "***Plan to answer:***\n",
    "\n",
    "- Prepare and Transform\n",
    "> Visualize Unique Nationality for each Label\n",
    "- Analyze\n",
    "> To be confirm"
   ]
  },
  {
   "cell_type": "markdown",
   "metadata": {},
   "source": [
    "### 4: Berdasarkan layanan internet, pelanggan manakah yang cenderung akan churn? Silahkan berikan alasannya\n",
    "\n",
    "***Plan to answer:***\n",
    "\n",
    "- Prepare and Transform\n",
    "> Visualize Unique InternetService for each Label\n",
    "- Analyze\n",
    "> To be confirm"
   ]
  },
  {
   "cell_type": "markdown",
   "metadata": {},
   "source": [
    "### 5: Berdasarkan jenis kontraknya, pelanggan manakah yang cenderung akan churn? Silahkan berikan alasannya\n",
    "\n",
    "***Plan to answer:***\n",
    "\n",
    "- Prepare and Transform\n",
    "> Visualize Unique Contract for each Label\n",
    "- Analyze\n",
    "> To be confirm"
   ]
  },
  {
   "cell_type": "markdown",
   "metadata": {},
   "source": [
    "### 6: Berdasarkan biaya bulanan, pelanggan manakah yang cenderung akan churn? Silahkan berikan alasannya\n",
    "\n",
    "***Plan to answer:***\n",
    "\n",
    "- Prepare and Transform\n",
    "> Visualize Unique MonthlyCharges for each Label\n",
    "- Analyze\n",
    "> To be confirm"
   ]
  },
  {
   "cell_type": "markdown",
   "metadata": {},
   "source": [
    "### 7: Metode apakah yang anda gunakan untuk mengubah data categorical menjadi numerical?\n",
    "\n",
    "***Plan to answer:***\n",
    "\n",
    "- Prepare and Transform\n",
    "> LabelEncoding / OneHotEncoding, depends on the analysis further\n",
    "- Analyze\n",
    "> To be confirm"
   ]
  },
  {
   "cell_type": "markdown",
   "metadata": {},
   "source": [
    "### 8: Metode apakah yang akan anda gunakan untuk menangani persoalan pada nomor 1? Mengapa anda menggunakan metode tersebut\n",
    "\n",
    "***Plan to answer:***\n",
    "\n",
    "- Prepare and Transform\n",
    "> Uniforming format dataset, transform object data type that suppose to be numerical, encode categorical dataset\n",
    "- Analyze\n",
    "> Undersampling/Oversampling/SMOTE"
   ]
  },
  {
   "cell_type": "markdown",
   "metadata": {},
   "source": [
    "### 9: Buatlah machine learning model untuk memprediksi pelanggan yang akan churn dibulan berikutnya dan tunjukan hasil evaluasi model tersebut\n",
    "\n",
    "***Plan to answer:***\n",
    "\n",
    "- Prepare and Transform\n",
    "> Feature Extraction, Feature Selection, Build Baseline Model, Evaluate Baseline Model, Split Dataset (for ML Development, not for baseline model)\n",
    "- Analyze\n",
    "> Build ML from Low code way, and traditional way.<br>\n",
    "> Evaluate using Precision, Recall, F1-Score, and AUC-ROC"
   ]
  },
  {
   "cell_type": "markdown",
   "metadata": {},
   "source": [
    "### 10: Jelaskan Fitur apa saja yang paling berpengaruh pada model anda dan berapa banyak pelanggan yang akan churn di bulan berikutnya\n",
    "\n",
    "***Plan to answer:***\n",
    "\n",
    "- Prepare and Transform\n",
    "> [within ML Development] -> split data into train, test, hold out (use hold out to predict this required question)\n",
    "- Analyze\n",
    "> Feature Importance/SHAP"
   ]
  },
  {
   "cell_type": "markdown",
   "metadata": {},
   "source": [
    "#### Misc\n",
    "\n",
    "Next notebook follow up for this question:\n",
    "- [02-prepare-process](02-prepare-process.ipynb)\n",
    "- [03-analyze](03-analyze.ipynb)\n",
    "- [05-modelling](05-modelling)"
   ]
  },
  {
   "cell_type": "markdown",
   "metadata": {},
   "source": []
  }
 ],
 "metadata": {
  "kernelspec": {
   "display_name": "Python 3",
   "language": "python",
   "name": "python3"
  },
  "language_info": {
   "codemirror_mode": {
    "name": "ipython",
    "version": 3
   },
   "file_extension": ".py",
   "mimetype": "text/x-python",
   "name": "python",
   "nbconvert_exporter": "python",
   "pygments_lexer": "ipython3",
   "version": "3.7.4"
  }
 },
 "nbformat": 4,
 "nbformat_minor": 4
}
